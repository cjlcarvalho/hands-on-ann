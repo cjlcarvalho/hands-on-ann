{
  "nbformat": 4,
  "nbformat_minor": 0,
  "metadata": {
    "colab": {
      "name": "ai_comparison.ipynb",
      "provenance": [],
      "collapsed_sections": [
        "wUjj8dIEj092",
        "0q8FkbTuj2x1",
        "-brz2jxmj5T_"
      ]
    },
    "kernelspec": {
      "name": "python3",
      "display_name": "Python 3"
    }
  },
  "cells": [
    {
      "cell_type": "markdown",
      "metadata": {
        "id": "22a_t_ItjuOH"
      },
      "source": [
        "# Preparação dos dados"
      ]
    },
    {
      "cell_type": "code",
      "metadata": {
        "id": "usmptBiTekr6"
      },
      "source": [
        "from sklearn.metrics import classification_report\n",
        "from sklearn import datasets\n",
        "\n",
        "cancer = datasets.load_breast_cancer()"
      ],
      "execution_count": 2,
      "outputs": []
    },
    {
      "cell_type": "code",
      "metadata": {
        "id": "1ep7k30Pen4H",
        "outputId": "831fbe65-0dec-4ffc-eb0b-61d5f70044fe",
        "colab": {
          "base_uri": "https://localhost:8080/"
        }
      },
      "source": [
        "print(\"Features: \", cancer.feature_names)\n",
        "print(\"Labels: \", cancer.target_names)"
      ],
      "execution_count": 3,
      "outputs": [
        {
          "output_type": "stream",
          "text": [
            "Features:  ['mean radius' 'mean texture' 'mean perimeter' 'mean area'\n",
            " 'mean smoothness' 'mean compactness' 'mean concavity'\n",
            " 'mean concave points' 'mean symmetry' 'mean fractal dimension'\n",
            " 'radius error' 'texture error' 'perimeter error' 'area error'\n",
            " 'smoothness error' 'compactness error' 'concavity error'\n",
            " 'concave points error' 'symmetry error' 'fractal dimension error'\n",
            " 'worst radius' 'worst texture' 'worst perimeter' 'worst area'\n",
            " 'worst smoothness' 'worst compactness' 'worst concavity'\n",
            " 'worst concave points' 'worst symmetry' 'worst fractal dimension']\n",
            "Labels:  ['malignant' 'benign']\n"
          ],
          "name": "stdout"
        }
      ]
    },
    {
      "cell_type": "code",
      "metadata": {
        "id": "dvCDkVh4esbz",
        "outputId": "7d9d68dc-56af-4138-b3ea-32289df6a497",
        "colab": {
          "base_uri": "https://localhost:8080/"
        }
      },
      "source": [
        "cancer.data.shape"
      ],
      "execution_count": 4,
      "outputs": [
        {
          "output_type": "execute_result",
          "data": {
            "text/plain": [
              "(569, 30)"
            ]
          },
          "metadata": {
            "tags": []
          },
          "execution_count": 4
        }
      ]
    },
    {
      "cell_type": "code",
      "metadata": {
        "id": "5qqI5dnjiD7s",
        "outputId": "7cc4397f-87b9-40f8-ded7-386dc36488ca",
        "colab": {
          "base_uri": "https://localhost:8080/"
        }
      },
      "source": [
        "cancer.target.shape"
      ],
      "execution_count": 5,
      "outputs": [
        {
          "output_type": "execute_result",
          "data": {
            "text/plain": [
              "(569,)"
            ]
          },
          "metadata": {
            "tags": []
          },
          "execution_count": 5
        }
      ]
    },
    {
      "cell_type": "code",
      "metadata": {
        "id": "eeyec9YPewtD",
        "outputId": "bd60f7a1-ae72-4a58-95ff-1e1d2f8bcc7e",
        "colab": {
          "base_uri": "https://localhost:8080/"
        }
      },
      "source": [
        "print(cancer.data[:5])"
      ],
      "execution_count": 6,
      "outputs": [
        {
          "output_type": "stream",
          "text": [
            "[[1.799e+01 1.038e+01 1.228e+02 1.001e+03 1.184e-01 2.776e-01 3.001e-01\n",
            "  1.471e-01 2.419e-01 7.871e-02 1.095e+00 9.053e-01 8.589e+00 1.534e+02\n",
            "  6.399e-03 4.904e-02 5.373e-02 1.587e-02 3.003e-02 6.193e-03 2.538e+01\n",
            "  1.733e+01 1.846e+02 2.019e+03 1.622e-01 6.656e-01 7.119e-01 2.654e-01\n",
            "  4.601e-01 1.189e-01]\n",
            " [2.057e+01 1.777e+01 1.329e+02 1.326e+03 8.474e-02 7.864e-02 8.690e-02\n",
            "  7.017e-02 1.812e-01 5.667e-02 5.435e-01 7.339e-01 3.398e+00 7.408e+01\n",
            "  5.225e-03 1.308e-02 1.860e-02 1.340e-02 1.389e-02 3.532e-03 2.499e+01\n",
            "  2.341e+01 1.588e+02 1.956e+03 1.238e-01 1.866e-01 2.416e-01 1.860e-01\n",
            "  2.750e-01 8.902e-02]\n",
            " [1.969e+01 2.125e+01 1.300e+02 1.203e+03 1.096e-01 1.599e-01 1.974e-01\n",
            "  1.279e-01 2.069e-01 5.999e-02 7.456e-01 7.869e-01 4.585e+00 9.403e+01\n",
            "  6.150e-03 4.006e-02 3.832e-02 2.058e-02 2.250e-02 4.571e-03 2.357e+01\n",
            "  2.553e+01 1.525e+02 1.709e+03 1.444e-01 4.245e-01 4.504e-01 2.430e-01\n",
            "  3.613e-01 8.758e-02]\n",
            " [1.142e+01 2.038e+01 7.758e+01 3.861e+02 1.425e-01 2.839e-01 2.414e-01\n",
            "  1.052e-01 2.597e-01 9.744e-02 4.956e-01 1.156e+00 3.445e+00 2.723e+01\n",
            "  9.110e-03 7.458e-02 5.661e-02 1.867e-02 5.963e-02 9.208e-03 1.491e+01\n",
            "  2.650e+01 9.887e+01 5.677e+02 2.098e-01 8.663e-01 6.869e-01 2.575e-01\n",
            "  6.638e-01 1.730e-01]\n",
            " [2.029e+01 1.434e+01 1.351e+02 1.297e+03 1.003e-01 1.328e-01 1.980e-01\n",
            "  1.043e-01 1.809e-01 5.883e-02 7.572e-01 7.813e-01 5.438e+00 9.444e+01\n",
            "  1.149e-02 2.461e-02 5.688e-02 1.885e-02 1.756e-02 5.115e-03 2.254e+01\n",
            "  1.667e+01 1.522e+02 1.575e+03 1.374e-01 2.050e-01 4.000e-01 1.625e-01\n",
            "  2.364e-01 7.678e-02]]\n"
          ],
          "name": "stdout"
        }
      ]
    },
    {
      "cell_type": "code",
      "metadata": {
        "id": "8UsssCJcex4C",
        "outputId": "f56a3d28-ffc2-4132-d580-9a7e029271ec",
        "colab": {
          "base_uri": "https://localhost:8080/"
        }
      },
      "source": [
        "print(cancer.target[:5])"
      ],
      "execution_count": 7,
      "outputs": [
        {
          "output_type": "stream",
          "text": [
            "[0 0 0 0 0]\n"
          ],
          "name": "stdout"
        }
      ]
    },
    {
      "cell_type": "code",
      "metadata": {
        "id": "Vc_a1Hhle7d9"
      },
      "source": [
        "from sklearn.model_selection import train_test_split\n",
        "\n",
        "X_train, X_test, y_train, y_test = train_test_split(cancer.data, cancer.target, test_size=0.3, random_state=109)"
      ],
      "execution_count": 8,
      "outputs": []
    },
    {
      "cell_type": "markdown",
      "metadata": {
        "id": "DolmDQ0Kjyvf"
      },
      "source": [
        "# SVM"
      ]
    },
    {
      "cell_type": "code",
      "metadata": {
        "id": "9TPEt547fFB0",
        "outputId": "16067485-ffd5-4fa1-ffe8-d7e3a512daa0",
        "colab": {
          "base_uri": "https://localhost:8080/"
        }
      },
      "source": [
        "from sklearn import svm\n",
        "\n",
        "def model_svm(x_train, y_train, x_test, y_test):\n",
        "  C = 1.0\n",
        "\n",
        "  models = (svm.LinearSVC(C=C, max_iter=10000),\n",
        "            svm.SVC(kernel='linear', C=C),\n",
        "            svm.SVC(kernel='rbf', gamma=0.7, C=C))\n",
        "  \n",
        "  for clf in models:\n",
        "    clf.fit(x_train, y_train)\n",
        "    prediction = clf.predict(x_test) \n",
        "    print(classification_report(y_test, prediction))\n",
        "\n",
        "model_svm(X_train, y_train, X_test, y_test)"
      ],
      "execution_count": 9,
      "outputs": [
        {
          "output_type": "stream",
          "text": [
            "/usr/local/lib/python3.6/dist-packages/sklearn/svm/_base.py:947: ConvergenceWarning: Liblinear failed to converge, increase the number of iterations.\n",
            "  \"the number of iterations.\", ConvergenceWarning)\n"
          ],
          "name": "stderr"
        },
        {
          "output_type": "stream",
          "text": [
            "              precision    recall  f1-score   support\n",
            "\n",
            "           0       0.95      0.94      0.94        63\n",
            "           1       0.96      0.97      0.97       108\n",
            "\n",
            "    accuracy                           0.96       171\n",
            "   macro avg       0.96      0.95      0.96       171\n",
            "weighted avg       0.96      0.96      0.96       171\n",
            "\n",
            "              precision    recall  f1-score   support\n",
            "\n",
            "           0       0.94      0.97      0.95        63\n",
            "           1       0.98      0.96      0.97       108\n",
            "\n",
            "    accuracy                           0.96       171\n",
            "   macro avg       0.96      0.97      0.96       171\n",
            "weighted avg       0.97      0.96      0.97       171\n",
            "\n",
            "              precision    recall  f1-score   support\n",
            "\n",
            "           0       0.00      0.00      0.00        63\n",
            "           1       0.63      1.00      0.77       108\n",
            "\n",
            "    accuracy                           0.63       171\n",
            "   macro avg       0.32      0.50      0.39       171\n",
            "weighted avg       0.40      0.63      0.49       171\n",
            "\n"
          ],
          "name": "stdout"
        },
        {
          "output_type": "stream",
          "text": [
            "/usr/local/lib/python3.6/dist-packages/sklearn/metrics/_classification.py:1272: UndefinedMetricWarning: Precision and F-score are ill-defined and being set to 0.0 in labels with no predicted samples. Use `zero_division` parameter to control this behavior.\n",
            "  _warn_prf(average, modifier, msg_start, len(result))\n"
          ],
          "name": "stderr"
        }
      ]
    },
    {
      "cell_type": "markdown",
      "metadata": {
        "id": "wUjj8dIEj092"
      },
      "source": [
        "# KNN"
      ]
    },
    {
      "cell_type": "code",
      "metadata": {
        "id": "bZ_krSiAfnoJ",
        "outputId": "46d7c764-e0af-40cd-c880-30dae241498f",
        "colab": {
          "base_uri": "https://localhost:8080/"
        }
      },
      "source": [
        "from sklearn.neighbors import KNeighborsClassifier\n",
        "\n",
        "def model_knn(x_train, y_train, x_test, y_test):\n",
        "\n",
        "  knn = KNeighborsClassifier(algorithm='auto', n_neighbors=8, p=1, weights='distance')\n",
        "\n",
        "  knn.fit(x_train, y_train) \n",
        "  y_predict = knn.predict(x_test)\n",
        "\n",
        "  print(classification_report(y_test, y_predict))\n",
        "\n",
        "model_knn(X_train, y_train, X_test, y_test)"
      ],
      "execution_count": 8,
      "outputs": [
        {
          "output_type": "stream",
          "text": [
            "              precision    recall  f1-score   support\n",
            "\n",
            "           0       0.98      0.95      0.97        63\n",
            "           1       0.97      0.99      0.98       108\n",
            "\n",
            "    accuracy                           0.98       171\n",
            "   macro avg       0.98      0.97      0.97       171\n",
            "weighted avg       0.98      0.98      0.98       171\n",
            "\n"
          ],
          "name": "stdout"
        }
      ]
    },
    {
      "cell_type": "markdown",
      "metadata": {
        "id": "0q8FkbTuj2x1"
      },
      "source": [
        " # Regressão Linear"
      ]
    },
    {
      "cell_type": "code",
      "metadata": {
        "id": "UgmERKo5f-nr",
        "outputId": "75d4a981-59ea-49db-b767-5b4e8ed76b9a",
        "colab": {
          "base_uri": "https://localhost:8080/"
        }
      },
      "source": [
        "from sklearn.linear_model import LinearRegression\n",
        "\n",
        "def model_linear_regression(x_train, y_train, x_test, y_test):\n",
        "\n",
        "  lr = LinearRegression().fit(x_train, y_train)\n",
        "\n",
        "  prediction = lr.predict(x_test)\n",
        "  prediction = prediction.astype(int)\n",
        "  print(classification_report(y_test, prediction))\n",
        "\n",
        "model_linear_regression(X_train, y_train, X_test, y_test)"
      ],
      "execution_count": 21,
      "outputs": [
        {
          "output_type": "stream",
          "text": [
            "              precision    recall  f1-score   support\n",
            "\n",
            "           0       0.46      1.00      0.63        63\n",
            "           1       1.00      0.32      0.49       108\n",
            "\n",
            "    accuracy                           0.57       171\n",
            "   macro avg       0.73      0.66      0.56       171\n",
            "weighted avg       0.80      0.57      0.54       171\n",
            "\n"
          ],
          "name": "stdout"
        }
      ]
    },
    {
      "cell_type": "markdown",
      "metadata": {
        "id": "-brz2jxmj5T_"
      },
      "source": [
        "# Redes Neurais"
      ]
    },
    {
      "cell_type": "code",
      "metadata": {
        "id": "dt2QduVBfp4r",
        "outputId": "2aad143b-5abe-4163-b0b2-82e21626670f",
        "colab": {
          "base_uri": "https://localhost:8080/"
        }
      },
      "source": [
        "import numpy as np\n",
        "from tensorflow.keras.utils import to_categorical\n",
        "from tensorflow.keras.models import Sequential\n",
        "from tensorflow.keras.layers import Dense\n",
        "\n",
        "def model_mlp(x_train, y_train, x_test, y_test):\n",
        "\n",
        "  input_shape = (x_train.shape[1],)\n",
        "\n",
        "  # Create the model\n",
        "  model = Sequential()\n",
        "  model.add(Dense(2048, input_shape=input_shape, activation='linear'))\n",
        "  model.add(Dense(1, activation='sigmoid'))\n",
        "\n",
        "  model.compile(loss = 'binary_crossentropy',  optimizer = 'adam', metrics=['accuracy'])\n",
        "  \n",
        "  model.summary()\n",
        "\n",
        "  model.fit(x_train, y_train,\n",
        "            epochs = 20,\n",
        "            batch_size = int(len(x_train) * 0.05),\n",
        "            verbose = True)\n",
        "  \n",
        "  y_predict = model.predict(x_test)\n",
        "  y_predict = y_predict.astype(int)\n",
        "\n",
        "  print(classification_report(y_test, y_predict))\n",
        "\n",
        "model_mlp(X_train, y_train, X_test, y_test)"
      ],
      "execution_count": 49,
      "outputs": [
        {
          "output_type": "stream",
          "text": [
            "Model: \"sequential_32\"\n",
            "_________________________________________________________________\n",
            "Layer (type)                 Output Shape              Param #   \n",
            "=================================================================\n",
            "dense_73 (Dense)             (None, 2048)              63488     \n",
            "_________________________________________________________________\n",
            "dense_74 (Dense)             (None, 1)                 2049      \n",
            "=================================================================\n",
            "Total params: 65,537\n",
            "Trainable params: 65,537\n",
            "Non-trainable params: 0\n",
            "_________________________________________________________________\n",
            "Epoch 1/20\n",
            "21/21 [==============================] - 0s 2ms/step - loss: 35.0914 - accuracy: 0.5050\n",
            "Epoch 2/20\n",
            "21/21 [==============================] - 0s 1ms/step - loss: 6.2693 - accuracy: 0.7337\n",
            "Epoch 3/20\n",
            "21/21 [==============================] - 0s 1ms/step - loss: 2.7796 - accuracy: 0.8568\n",
            "Epoch 4/20\n",
            "21/21 [==============================] - 0s 2ms/step - loss: 1.6124 - accuracy: 0.8794\n",
            "Epoch 5/20\n",
            "21/21 [==============================] - 0s 1ms/step - loss: 1.4898 - accuracy: 0.8819\n",
            "Epoch 6/20\n",
            "21/21 [==============================] - 0s 1ms/step - loss: 1.9822 - accuracy: 0.8467\n",
            "Epoch 7/20\n",
            "21/21 [==============================] - 0s 2ms/step - loss: 1.7583 - accuracy: 0.8894\n",
            "Epoch 8/20\n",
            "21/21 [==============================] - 0s 2ms/step - loss: 3.6538 - accuracy: 0.8116\n",
            "Epoch 9/20\n",
            "21/21 [==============================] - 0s 2ms/step - loss: 2.1539 - accuracy: 0.8794\n",
            "Epoch 10/20\n",
            "21/21 [==============================] - 0s 2ms/step - loss: 1.3252 - accuracy: 0.8844\n",
            "Epoch 11/20\n",
            "21/21 [==============================] - 0s 1ms/step - loss: 0.8868 - accuracy: 0.8995\n",
            "Epoch 12/20\n",
            "21/21 [==============================] - 0s 1ms/step - loss: 2.8900 - accuracy: 0.8392\n",
            "Epoch 13/20\n",
            "21/21 [==============================] - 0s 1ms/step - loss: 3.3825 - accuracy: 0.8141\n",
            "Epoch 14/20\n",
            "21/21 [==============================] - 0s 1ms/step - loss: 1.6469 - accuracy: 0.8920\n",
            "Epoch 15/20\n",
            "21/21 [==============================] - 0s 1ms/step - loss: 1.9635 - accuracy: 0.8643\n",
            "Epoch 16/20\n",
            "21/21 [==============================] - 0s 2ms/step - loss: 1.2695 - accuracy: 0.8945\n",
            "Epoch 17/20\n",
            "21/21 [==============================] - 0s 1ms/step - loss: 3.9880 - accuracy: 0.8191\n",
            "Epoch 18/20\n",
            "21/21 [==============================] - 0s 2ms/step - loss: 2.7320 - accuracy: 0.8568\n",
            "Epoch 19/20\n",
            "21/21 [==============================] - 0s 2ms/step - loss: 2.0376 - accuracy: 0.8693\n",
            "Epoch 20/20\n",
            "21/21 [==============================] - 0s 1ms/step - loss: 0.8807 - accuracy: 0.9146\n",
            "              precision    recall  f1-score   support\n",
            "\n",
            "           0       1.00      0.83      0.90        63\n",
            "           1       0.91      1.00      0.95       108\n",
            "\n",
            "    accuracy                           0.94       171\n",
            "   macro avg       0.95      0.91      0.93       171\n",
            "weighted avg       0.94      0.94      0.93       171\n",
            "\n"
          ],
          "name": "stdout"
        }
      ]
    },
    {
      "cell_type": "markdown",
      "metadata": {
        "id": "TGyXZ880j8fp"
      },
      "source": [
        "# Comparação dos resultados"
      ]
    },
    {
      "cell_type": "markdown",
      "metadata": {
        "id": "7QiEROT2j-yy"
      },
      "source": [
        "|   Modelo  | LinearSVC | SVC - Linear | SVC - RBF |  KNN | Regressão Linear | Rede Neural |\n",
        "|:---------:|:---------:|:------------:|:---------:|:----:|:----------------:|:-----------:|\n",
        "| Precision |    0.96   |     0.96     |    0.32   | **0.98** |       0.73       |     0.95    |\n",
        "|   Recall  |    0.95   |     **0.97**     |    0.50   | **0.97** |       0.66       |     0.91    |\n",
        "|  F1 Score |    0.96   |     0.96     |    0.39   | **0.97** |       0.56       |     0.93    |"
      ]
    }
  ]
}